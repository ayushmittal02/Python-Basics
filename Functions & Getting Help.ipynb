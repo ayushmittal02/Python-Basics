{
  "cells": [
    {
      "metadata": {
        "_uuid": "4e3c30eea794415c23e5560a2a7dfb3c70734bf1"
      },
      "cell_type": "markdown",
      "source": "These exercises accompany the tutorial on [functions and getting help](https://www.kaggle.com/colinmorris/functions-and-getting-help).\n\nAs before, don't forget to run the setup code below before jumping into question 1."
    },
    {
      "metadata": {
        "_kg_hide-input": true,
        "_kg_hide-output": true,
        "_uuid": "fe7275c3cf6e29c401b0a209d6a074c25d6a7c1a",
        "trusted": true
      },
      "cell_type": "code",
      "source": "# SETUP. You don't need to worry for now about what this code does or how it works. If you're ever curious about the \n# code behind these exercises, it's available under an open source license here: https://github.com/Kaggle/learntools/\nfrom learntools.core import binder; binder.bind(globals())\nfrom learntools.python.ex2 import *\nprint('Setup complete.')",
      "execution_count": 2,
      "outputs": [
        {
          "output_type": "stream",
          "text": "Setup complete.\n",
          "name": "stdout"
        }
      ]
    },
    {
      "metadata": {
        "_uuid": "fc2d16d25ac673d8336dd4c32bdee888859f06b5"
      },
      "cell_type": "markdown",
      "source": "# Exercises"
    },
    {
      "metadata": {
        "_uuid": "08cb63de299dfb8d4c20ecc3f00d339a634fc093"
      },
      "cell_type": "markdown",
      "source": "## 1.\n\nComplete the body of the following function according to its docstring.\n\nHINT: Python has a builtin function `round`"
    },
    {
      "metadata": {
        "_uuid": "a4bd840c6ef24b04078d161a475f5dd4d81d6a3e",
        "trusted": true
      },
      "cell_type": "code",
      "source": "def round_to_two_places(num):\n    \"\"\"Return the given number rounded to two decimal places. \n    \n    >>> round_to_two_places(3.14159)\n    3.14\n    \"\"\"\n    # Replace this body with your own code.\n    # (\"pass\" is a keyword that does literally nothing. We used it as a placeholder\n    # because after we begin a code block, Python requires at least one line of code)\n    return round(num,2)\n\nq1.check()",
      "execution_count": null,
      "outputs": []
    },
    {
      "metadata": {
        "collapsed": true,
        "_uuid": "4aba281482f93fef07f34728b0b193205095080a",
        "trusted": false
      },
      "cell_type": "code",
      "source": "# Uncomment the following for a hint\n#q1.hint()\n# Or uncomment the following to peek at the solution\n#q1.solution()",
      "execution_count": null,
      "outputs": []
    },
    {
      "metadata": {
        "collapsed": true,
        "_uuid": "0bfda211e0a1aae69d4e23be0e1bdebcaa376518"
      },
      "cell_type": "markdown",
      "source": "## 2.\nThe help for `round` says that `ndigits` (the second argument) may be negative.\nWhat do you think will happen when it is? Try out some examples in the console (at the bottom of the editor) or in a new code cell.\n\nCan you think of a case where this would be useful?"
    },
    {
      "metadata": {
        "_uuid": "dfd863d04697cb84f1dbbadc0149f04001ac56f3",
        "trusted": true,
        "scrolled": true
      },
      "cell_type": "code",
      "source": "q2.solution()",
      "execution_count": null,
      "outputs": []
    },
    {
      "metadata": {
        "_uuid": "1bf6b6f5b447a601282fe07aa6a1359486122393"
      },
      "cell_type": "markdown",
      "source": "## 3.\n\nIn the last exercise, I introduced candy-sharing friends Alice, Bob and Carol. As a reminder, they have some candies which they plan to split evenly among themselves. For the sake of their friendship, any candies left over would be smashed. For example, if they collectively bring home 91 candies, they'll take 30 each and smash 1.\n\nEarlier, you wrote some code to calculate how many candies they'd have to smash, assuming they collected a particular number.\n\nBelow is a simple function that will calculate the number of candies to smash for *any* number of total candies.\n\nModify it so that it optionally takes a second argument representing the number of friends the candies are being split between. If no second argument is provided, it should assume 3 friends, as before.\n\nIf you're feeling extra fastidious, update the docstring to reflect this new behaviour (but we won't be checking for this)."
    },
    {
      "metadata": {
        "_uuid": "98e35840aed4b61fde8d21b2a2c879e7623be4e4",
        "trusted": true
      },
      "cell_type": "code",
      "source": "def to_smash(total_candies,friends):\n    \"\"\"Return the number of leftover candies that must be smashed after distributing\n    the given number of candies evenly between 3 friends.\n    \n    >>> to_smash(91)\n    1\n    \"\"\"\n    if friends:\n        return total_candies%friends\n    else:\n        return total_candies % 3\n\nq3.check()",
      "execution_count": null,
      "outputs": []
    },
    {
      "metadata": {
        "collapsed": true,
        "_uuid": "ea8fd86242c1a9f12d9c89b4ba8faf59c4802915",
        "trusted": false
      },
      "cell_type": "code",
      "source": "#q3.hint()",
      "execution_count": null,
      "outputs": []
    },
    {
      "metadata": {
        "_uuid": "72b66b26ebd131b221e5e77034aa79527529fe64",
        "trusted": true,
        "scrolled": false
      },
      "cell_type": "code",
      "source": "q3.solution()",
      "execution_count": null,
      "outputs": []
    },
    {
      "metadata": {
        "_uuid": "fc9879112c4e73bc8dac4d8d663779e3d2547771"
      },
      "cell_type": "markdown",
      "source": "## 4.\n\nIt may not be fun, but reading and understanding error messages will be an important part of your Python career.\n\nEach code cell below contains some commented-out buggy code. For each cell...\n\n1. Read the code and predict what you think will happen when it's run.\n2. Then uncomment the code and run it to see what happens. (**Tip**: In the kernel editor, you can highlight several lines and press `ctrl`+`/` to toggle commenting.)\n3. Fix the code (so that it accomplishes its intended purpose without throwing an exception)\n\n<!-- TODO: should this be autochecked? Delta is probably pretty small. -->"
    },
    {
      "metadata": {
        "_uuid": "222562c47216edfc33609802cf8776aaad24d5c6",
        "trusted": true
      },
      "cell_type": "code",
      "source": " round_to_two_places(9.9999)",
      "execution_count": null,
      "outputs": []
    },
    {
      "metadata": {
        "_uuid": "21ae58e24a12604a27ac1ec7f1ec02f0de173e1d",
        "trusted": true
      },
      "cell_type": "code",
      "source": "x = -10\ny = 5\n# Which of the two variables above has the smallest absolute value?\nsmallest_abs = min(abs(x),abs(y))\nprint(smallest_abs)",
      "execution_count": null,
      "outputs": []
    },
    {
      "metadata": {
        "_uuid": "80a7d3384d06387cc086d6d659d473ab5e38e863",
        "trusted": true
      },
      "cell_type": "code",
      "source": "def f(x):\n    y = abs(x)\n    return y\n\nprint(f(5))",
      "execution_count": null,
      "outputs": []
    },
    {
      "metadata": {
        "_uuid": "b86ffa63628c789963e85ccdab8be8a39ae9b503"
      },
      "cell_type": "markdown",
      "source": "## 5. <span title=\"A bit spicy\" style=\"color: darkgreen \">🌶️</span>\n\nFor this question, we'll be using two functions imported from Python's `time` module.\n\nThe [time](https://docs.python.org/3/library/time.html#time.time) function returns the number of seconds that have passed since the Epoch (aka [Unix time](https://en.wikipedia.org/wiki/Unix_time)). \n\n<!-- We've provided a function called `seconds_since_epoch` which returns the number of seconds that have passed since the Epoch (aka [Unix time](https://en.wikipedia.org/wiki/Unix_time)). -->\n\nTry it out below. Each time you run it, you should get a slightly larger number."
    },
    {
      "metadata": {
        "_uuid": "39a50d3aae0d889b796b5cb2892139dc91ea0a0e",
        "trusted": true,
        "scrolled": true
      },
      "cell_type": "code",
      "source": "# Importing the function 'time' from the module of the same name. \n# (We'll discuss imports in more depth later)\nfrom time import time\nt = time()\nprint(t, \"seconds since the Epoch\")",
      "execution_count": null,
      "outputs": []
    },
    {
      "metadata": {
        "_uuid": "8e22b87a373f7e2f07a8620e0688c082a3ff3721"
      },
      "cell_type": "markdown",
      "source": "We'll also be using a function called [sleep](https://docs.python.org/3/library/time.html#time.sleep), which makes us wait some number of seconds while it does nothing particular. (Sounds useful, right?)\n\nYou can see it in action by running the cell below:"
    },
    {
      "metadata": {
        "_uuid": "d4905282320206ed5ae8ac53f37bb5a8552c2fe3",
        "trusted": true
      },
      "cell_type": "code",
      "source": "from time import sleep\nduration = 5\nprint(\"Getting sleepy. See you in\", duration, \"seconds\")\nsleep(duration)\nprint(\"I'm back. What did I miss?\")",
      "execution_count": null,
      "outputs": []
    },
    {
      "metadata": {
        "_uuid": "86178f5b784b55a9c242c5890d867ecda9fd1b80"
      },
      "cell_type": "markdown",
      "source": "With the help of these functions, complete the function `time_call` below according to its docstring.\n\n<!-- (The sleep function will be useful for testing here since we have a pretty good idea of what something like `time_call(sleep, 1)` should return.) -->"
    },
    {
      "metadata": {
        "collapsed": true,
        "_uuid": "31fde4228bb94b4bff419a4e44544c9277f4e943",
        "trusted": false
      },
      "cell_type": "code",
      "source": "def time_call(fn, arg):\n    \"\"\"Return the amount of time the given function takes (in seconds) when called with the given argument.\n    \"\"\"\n    pass",
      "execution_count": null,
      "outputs": []
    },
    {
      "metadata": {
        "_uuid": "33fe20b50d578c91861eaf07bc692941a09bf00e"
      },
      "cell_type": "markdown",
      "source": "How can you verify that `time_call` is working correctly? (There's no `q5.check()` function for this question - testing your solution is part of your challenge.)"
    },
    {
      "metadata": {
        "collapsed": true,
        "_uuid": "ad9c7903dbe615640a700a898912afdedd513563",
        "trusted": false
      },
      "cell_type": "code",
      "source": "#q5.hint()",
      "execution_count": null,
      "outputs": []
    },
    {
      "metadata": {
        "_uuid": "4f57981d5ddfa4e99a4fa279a25fbec2f17c328f",
        "trusted": true
      },
      "cell_type": "code",
      "source": "q5.solution()",
      "execution_count": null,
      "outputs": []
    },
    {
      "metadata": {
        "_uuid": "1a7ea1779003acf88f85a3d93997b3584184d000"
      },
      "cell_type": "markdown",
      "source": "## 6. <span title=\"A bit spicy\" style=\"color: darkgreen \">🌶️</span>\n\n*Note: this question depends on a working solution to the previous question.*\n\nComplete the function below according to its docstring."
    },
    {
      "metadata": {
        "_uuid": "11230642a0710351ea341144079cba757e35d9c8",
        "trusted": true
      },
      "cell_type": "code",
      "source": "def slowest_call(fn, arg1, arg2, arg3):\n    \"\"\"Return the amount of time taken by the slowest of the following function\n    calls: fn(arg1), fn(arg2), fn(arg3)\n    \"\"\"\n    return max(time_call(fn, arg1), time_call(fn, arg2), time_call(fn, arg3))",
      "execution_count": 6,
      "outputs": []
    },
    {
      "metadata": {
        "collapsed": true,
        "_uuid": "dda57686004c177b1ac955656eff85cea239d32f",
        "trusted": false
      },
      "cell_type": "code",
      "source": "#q6.hint()",
      "execution_count": null,
      "outputs": []
    },
    {
      "metadata": {
        "_uuid": "5536ab2b2d9ab2a70704fa7f9b6e25704ca77e5c",
        "trusted": true
      },
      "cell_type": "code",
      "source": "q6.solution()",
      "execution_count": 3,
      "outputs": [
        {
          "output_type": "display_data",
          "data": {
            "text/plain": "<IPython.core.display.Javascript object>",
            "application/javascript": "parent.postMessage({\"jupyterEvent\": \"custom.exercise_interaction\", \"data\": {\"interactionType\": 3, \"learnTutorialId\": 104, \"questionId\": \"6_SlowestCallProblem\", \"learnToolsVersion\": \"0.2.2\", \"valueTowardsCompletion\": 0.0, \"failureMessage\": \"\", \"exceptionClass\": \"\", \"trace\": \"\", \"outcomeType\": 4}}, \"*\")"
          },
          "metadata": {}
        },
        {
          "output_type": "display_data",
          "data": {
            "text/plain": "Solution: \n```python\nreturn max(time_call(fn, arg1), time_call(fn, arg2), time_call(fn, arg3))\n```\n\nYou *could* copy-paste the code you wrote for `time_call` three times with some slight variable changes. But that's highly not recommended. It's more typing, and if you later noticed a bug in `time_call`, you'd have to fix it in 4 places. [Laziness is one of the three great virtues of a programmer.](http://threevirtues.com/)",
            "text/markdown": "<span style=\"color:#33cc99\">Solution:</span> \n```python\nreturn max(time_call(fn, arg1), time_call(fn, arg2), time_call(fn, arg3))\n```\n\nYou *could* copy-paste the code you wrote for `time_call` three times with some slight variable changes. But that's highly not recommended. It's more typing, and if you later noticed a bug in `time_call`, you'd have to fix it in 4 places. [Laziness is one of the three great virtues of a programmer.](http://threevirtues.com/)\n"
          },
          "metadata": {}
        }
      ]
    },
    {
      "metadata": {
        "_uuid": "4d7fafd45bdfca8a312156158cde8ae849c8b783"
      },
      "cell_type": "markdown",
      "source": "\n\n## 7. <span title=\"A bit spicy\" style=\"color: darkgreen \">🌶️</span>\n\nWhat will Python display after we run the following (weird) code? Think carefully about the order in which Python will evaluate each part. When you have a prediction, uncomment and run the code to check whether you were correct."
    },
    {
      "metadata": {
        "_uuid": "375d1047e461be48f875e41d4cacbeae343bcd4a",
        "trusted": true
      },
      "cell_type": "code",
      "source": "print(print(\"Spam\"))",
      "execution_count": null,
      "outputs": []
    },
    {
      "metadata": {
        "collapsed": true,
        "_uuid": "6fba01dc7c8a34baafcc0a3685ac85b8047ffd36",
        "trusted": false
      },
      "cell_type": "code",
      "source": "#q7.hint()",
      "execution_count": null,
      "outputs": []
    },
    {
      "metadata": {
        "_uuid": "23be70f520b3b5d10cc66ef4e50afb4656069b50",
        "trusted": true
      },
      "cell_type": "code",
      "source": "# Uncomment for an explanation.\nq7.solution()",
      "execution_count": null,
      "outputs": []
    },
    {
      "metadata": {
        "_uuid": "62b673847662682f01c4f3fec56ff670813c1d8c"
      },
      "cell_type": "markdown",
      "source": "## 8. <span title=\"Spicy - this optional problem is intended to be extra difficult\" style=\"color: coral\">🌶️🌶️</span>\n\nRead the function definition below. What do you think will be returned by the function call at the bottom of the cell? Will it match the docstring example? Return something else? Or will Python raise an exception? When you're ready, run the code cell to find out."
    },
    {
      "metadata": {
        "_uuid": "f31d2d52783451220ef96db994af2261955f65a0",
        "trusted": true
      },
      "cell_type": "code",
      "source": "def smallest_stringy_number(s1, s2, s3):\n    \"\"\"Return whichever of the three string arguments represents the smallest number.\n    \n    >>> smallest_stringy_number('1', '2', '3')\n    '1'\n    \"\"\"\n    return min(s1, s2, s3)\n\nsmallest_stringy_number('1', '2', '3')",
      "execution_count": null,
      "outputs": []
    },
    {
      "metadata": {
        "_uuid": "501f589bb91d34465a0119d4160ef11878ee528d"
      },
      "cell_type": "markdown",
      "source": "<br/><br/><br/><br/><br/><br/><br/><br/><br/>\n\n(If you thought it would raise an exception, that's a perfectly reasonable guess. A large portion of learning Python is just trying stuff out and seeing what happens! A lot of arbitrary or at least subjective decisions go into designing a programming language, and it's not always possible to deduce from first principles how Python will handle a particular situation.)\n\nBut in this case, the `min` function gamely accepts our string inputs and seems to work as desired! Or, at least on the example in the docstring. However, there's a subtle problem afoot. Try experimenting with the function to see if you can find a set of inputs where it fails. Can you see where it's going wrong?"
    },
    {
      "metadata": {
        "_uuid": "ffa0798f9f336bb4b8d1649ea708ba3895ef2b11",
        "trusted": true
      },
      "cell_type": "code",
      "source": "q8.a.solution()",
      "execution_count": null,
      "outputs": []
    },
    {
      "metadata": {
        "_uuid": "764b53be4741cbd5af253971660a34d0286ec2eb"
      },
      "cell_type": "markdown",
      "source": "### b.\n\nIn the cell below, modify `smallest_stringy_number` to fix the bug you identified in part a.\n\nReminder: [In the first lesson](https://www.kaggle.com/colinmorris/hello-python), we briefly saw that `int` can be called on strings such as `'32'` to get the corresponding integer value.\n\n**Bonus**: Can you keep the function's body down to one line? (Try to only use tools we've seen so far - i.e. no loops, conditionals, etc.)"
    },
    {
      "metadata": {
        "_uuid": "988c850786952735f178edaaec2714398182bfa2",
        "trusted": true
      },
      "cell_type": "code",
      "source": "def smallest_stringy_number(s1, s2, s3):\n    \"\"\"Return whichever of the three string arguments represents the smallest number.\n    \n    >>> smallest_stringy_number('1', '2', '3')\n    '1'\n    \"\"\"\n    return str(min(int(s1),int(s2), int(s3)))\n\nq8.b.check()",
      "execution_count": null,
      "outputs": []
    },
    {
      "metadata": {
        "collapsed": true,
        "_uuid": "a3db76c562e83e119e72cd05e88d3a8d2bd19e03",
        "trusted": false
      },
      "cell_type": "code",
      "source": "#q8.b.hint()",
      "execution_count": null,
      "outputs": []
    },
    {
      "metadata": {
        "collapsed": true,
        "_uuid": "bdff03be00138b0f75dbbf208cdb737833067eca",
        "trusted": false
      },
      "cell_type": "code",
      "source": "#q8.b.solution()",
      "execution_count": null,
      "outputs": []
    },
    {
      "metadata": {
        "_uuid": "41ff5623732e1afed1e084170bc3f2196281a030"
      },
      "cell_type": "markdown",
      "source": "If you have any questions, be sure to post them on the [forums](https://www.kaggle.com/learn-forum).\n\nRemember that your notebook is private by default, and in order to share it with other people or ask for help with it, you'll need to make it public. First, you'll need to save a version of your notebook that shows your current work by hitting the \"Commit & Run\" button. (Your work is saved automatically, but versioning your work lets you go back and look at what it was like at the point you saved it. It also let's you share a nice compiled notebook instead of just the raw code.) Then, once your notebook is finished running, you can go to the Settings tab in the panel to the left (you may have to expand it by hitting the [<] button next to the \"Commit & Run\" button) and setting the \"Visibility\" dropdown to \"Public\".\n\n# Keep Going\n\nWhen you're ready to continue, [click here](https://www.kaggle.com/colinmorris/booleans-and-conditionals) to continue on to the next tutorial on booleans and conditionals."
    }
  ],
  "metadata": {
    "kernelspec": {
      "display_name": "Python 3",
      "language": "python",
      "name": "python3"
    },
    "language_info": {
      "name": "python",
      "version": "3.6.6",
      "mimetype": "text/x-python",
      "codemirror_mode": {
        "name": "ipython",
        "version": 3
      },
      "pygments_lexer": "ipython3",
      "nbconvert_exporter": "python",
      "file_extension": ".py"
    },
    "learntools_metadata": {
      "lesson_index": 1,
      "type": "exercise"
    }
  },
  "nbformat": 4,
  "nbformat_minor": 1
}