#!/usr/bin/env python
# coding: utf-8

# In[2]:


import numpy as np


# # Array vs Lists

# In[ ]:


x=range(500)
y=np.arange(500) #equivalent of x in numpy
print(x)
print(y)


# In[ ]:


x=np.arange(12).reshape((3,4))
x


# In[ ]:


list=[1,2,3,4]
arr=np.array([1,2,3,4])
print(list)
arr


# # Array memory representation

# In[ ]:


x=np.array([[1,2],[5,6]])
x.dtype


# In[ ]:


x=np.array([[2.0,3],[4,8]])
print(x)
x.dtype


# In[ ]:


np.iinfo('int64')


# In[ ]:


np.array([1,2,3],dtype=float)


# In[ ]:


x=np.array([0,127,255],dtype=np.uint8) #x contains numbers ranging from 0 to 255 only.
print(x)


# In[ ]:


x+1


# In[ ]:


x-1


# # Array creation

# In[ ]:


np.zeros((3,4),dtype=float)


# In[ ]:


np.zeros((3),dtype=complex)


# In[ ]:


np.ones((2,5),dtype=int)


# In[5]:


np.eye(3,3)


# In[7]:


np.array([1,2,3]*3)


# In[8]:


np.repeat([1,2,3],3)


# In[ ]:


np.empty((2,3)) #These are random memory entries!


# In[ ]:


np.linspace(0,1,5) #start,stop,num


# In[ ]:


np.logspace(1,4,4)


# In[ ]:


rng=np.random.RandomState(0) #Create number generator according to various distributions
print(rng)


# In[ ]:


rng.uniform(low=1,high=5,size=50) #Uniform distribution


# In[ ]:


rng.normal(loc=5,scale=1,size=5) #Normal distributiom


# # Array copies, references

# In[ ]:


a=np.array([1,3,4.6,2,1])
b=a
a


# In[ ]:


#changing third entry of b also changes third entry of a!
b[2]=27
print(a)
print(b)


# In[ ]:


#To copy a numpy array, use np.copy
c=np.copy(a)
c


# In[ ]:


c[-1]=5.7
print(c)
print(a)


# In[ ]:


p=np.arange(12).reshape((3,4))
p


# In[ ]:


np.sum(p)


# In[ ]:


np.sum(p,axis=0)


# In[ ]:


np.sum(p,axis=1)

